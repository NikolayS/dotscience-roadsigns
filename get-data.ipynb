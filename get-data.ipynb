{
 "cells": [
  {
   "cell_type": "code",
   "execution_count": 1,
   "metadata": {},
   "outputs": [],
   "source": [
    "import dotscience as ds\n",
    "import pickle"
   ]
  },
  {
   "cell_type": "code",
   "execution_count": 2,
   "metadata": {},
   "outputs": [],
   "source": [
    "ds.interactive()\n",
    "ds.start()"
   ]
  },
  {
   "cell_type": "code",
   "execution_count": 3,
   "metadata": {},
   "outputs": [
    {
     "name": "stdout",
     "output_type": "stream",
     "text": [
      "[[DOTSCIENCE-RUN:d8420db9-7686-4fbb-a969-06c7bb491a10]]{\n",
      "    \"description\": \"uploaded labels\",\n",
      "    \"end\": \"20191016T040410.683903\",\n",
      "    \"input\": [],\n",
      "    \"labels\": {},\n",
      "    \"output\": [\n",
      "        \"dotscience-roadsigns/signnames.csv\"\n",
      "    ],\n",
      "    \"parameters\": {},\n",
      "    \"start\": \"20191016T040410.672848\",\n",
      "    \"summary\": {},\n",
      "    \"version\": \"1\"\n",
      "}[[/DOTSCIENCE-RUN:d8420db9-7686-4fbb-a969-06c7bb491a10]]\n"
     ]
    }
   ],
   "source": [
    "ds.output(\"signnames.csv\")\n",
    "ds.publish(\"uploaded labels\")"
   ]
  },
  {
   "cell_type": "code",
   "execution_count": 4,
   "metadata": {},
   "outputs": [],
   "source": [
    "ds.start()"
   ]
  },
  {
   "cell_type": "code",
   "execution_count": 5,
   "metadata": {},
   "outputs": [
    {
     "name": "stdout",
     "output_type": "stream",
     "text": [
      "Downloading data from https://d17h27t6h515a5.cloudfront.net/topher/2017/February/5898cd6f_traffic-signs-data/traffic-signs-data.zip\n",
      "Archive:  traffic-signs-data.zip\n",
      "  inflating: test.p                  \n",
      "  inflating: train.p                 \n",
      "  inflating: valid.p                 \n"
     ]
    }
   ],
   "source": [
    "%%bash\n",
    "DATAFILE=\"https://d17h27t6h515a5.cloudfront.net/topher/2017/February/5898cd6f_traffic-signs-data/traffic-signs-data.zip\"\n",
    "if [ -d \"/tmp/traffic-signs-data\" ]; then\n",
    "    echo \"Data already downloaded\"\n",
    "else\n",
    "    echo \"Downloading data from $DATAFILE\"\n",
    "    mkdir /tmp/traffic-signs-data\n",
    "    curl -s -o /tmp/traffic-signs-data/traffic-signs-data.zip $DATAFILE\n",
    "    (cd /tmp/traffic-signs-data && unzip traffic-signs-data.zip && rm -f traffic-signs-data.zip)\n",
    "    (mv /tmp/traffic-signs-data/* .)\n",
    "fi"
   ]
  },
  {
   "cell_type": "code",
   "execution_count": 6,
   "metadata": {},
   "outputs": [
    {
     "data": {
      "text/plain": [
       "'test.p'"
      ]
     },
     "execution_count": 6,
     "metadata": {},
     "output_type": "execute_result"
    }
   ],
   "source": [
    "ds.output(\"train.p\")\n",
    "ds.output(\"valid.p\")\n",
    "ds.output(\"test.p\")\n"
   ]
  },
  {
   "cell_type": "code",
   "execution_count": 7,
   "metadata": {},
   "outputs": [
    {
     "name": "stdout",
     "output_type": "stream",
     "text": [
      "[[DOTSCIENCE-RUN:219d2810-d895-40d6-89e2-300da78fe171]]{\n",
      "    \"description\": \"downloaded pickle files\",\n",
      "    \"end\": \"20191016T040417.852492\",\n",
      "    \"input\": [],\n",
      "    \"labels\": {},\n",
      "    \"output\": [\n",
      "        \"dotscience-roadsigns/test.p\",\n",
      "        \"dotscience-roadsigns/train.p\",\n",
      "        \"dotscience-roadsigns/valid.p\"\n",
      "    ],\n",
      "    \"parameters\": {},\n",
      "    \"start\": \"20191016T040410.693603\",\n",
      "    \"summary\": {},\n",
      "    \"version\": \"1\"\n",
      "}[[/DOTSCIENCE-RUN:219d2810-d895-40d6-89e2-300da78fe171]]\n"
     ]
    }
   ],
   "source": [
    "ds.publish(\"downloaded pickle files\")"
   ]
  }
 ],
 "metadata": {
  "kernelspec": {
   "display_name": "Python 3",
   "language": "python",
   "name": "python3"
  },
  "language_info": {
   "codemirror_mode": {
    "name": "ipython",
    "version": 3
   },
   "file_extension": ".py",
   "mimetype": "text/x-python",
   "name": "python",
   "nbconvert_exporter": "python",
   "pygments_lexer": "ipython3",
   "version": "3.6.8"
  }
 },
 "nbformat": 4,
 "nbformat_minor": 4
}
