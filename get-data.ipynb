{
 "cells": [
  {
   "cell_type": "code",
   "execution_count": 30,
   "metadata": {},
   "outputs": [],
   "source": [
    "import dotscience as ds\n",
    "import pickle\n"
   ]
  },
  {
   "cell_type": "code",
   "execution_count": 31,
   "metadata": {},
   "outputs": [],
   "source": [
    "ds.interactive()\n",
    "ds.start()"
   ]
  },
  {
   "cell_type": "code",
   "execution_count": 32,
   "metadata": {},
   "outputs": [
    {
     "name": "stdout",
     "output_type": "stream",
     "text": [
      "Data already downloaded\n"
     ]
    }
   ],
   "source": [
    "%%bash\n",
    "DATAFILE=\"https://d17h27t6h515a5.cloudfront.net/topher/2017/February/5898cd6f_traffic-signs-data/traffic-signs-data.zip\"\n",
    "if [ -d \"/tmp/traffic-signs-data\" ]; then\n",
    "    echo \"Data already downloaded\"\n",
    "else\n",
    "    echo \"Downloading data from $DATAFILE\"\n",
    "    mkdir /tmp/traffic-signs-data\n",
    "    curl -s -o /tmp/traffic-signs-data/traffic-signs-data.zip $DATAFILE\n",
    "    (cd /tmp/traffic-signs-data && unzip traffic-signs-data.zip && rm -f traffic-signs-data.zip)\n",
    "    (mv /tmp/traffic-signs-data/* .)\n",
    "fi"
   ]
  },
  {
   "cell_type": "code",
   "execution_count": 33,
   "metadata": {},
   "outputs": [
    {
     "data": {
      "text/plain": [
       "'test.p'"
      ]
     },
     "execution_count": 33,
     "metadata": {},
     "output_type": "execute_result"
    }
   ],
   "source": [
    "ds.output(\"train.p\")\n",
    "ds.output(\"valid.p\")\n",
    "ds.output(\"test.p\")\n"
   ]
  },
  {
   "cell_type": "code",
   "execution_count": 34,
   "metadata": {},
   "outputs": [
    {
     "name": "stdout",
     "output_type": "stream",
     "text": [
      "[[DOTSCIENCE-RUN:8570f2d1-82b1-494a-9d2c-c62b330c4c40]]{\n",
      "    \"end\": \"20190318T233308.713854\",\n",
      "    \"input\": [],\n",
      "    \"labels\": {},\n",
      "    \"output\": [\n",
      "        \"test.p\",\n",
      "        \"train.p\",\n",
      "        \"valid.p\"\n",
      "    ],\n",
      "    \"parameters\": {},\n",
      "    \"start\": \"20190318T231936.204406\",\n",
      "    \"summary\": {},\n",
      "    \"version\": \"1\"\n",
      "}[[/DOTSCIENCE-RUN:8570f2d1-82b1-494a-9d2c-c62b330c4c40]]\n"
     ]
    }
   ],
   "source": [
    "ds.publish()"
   ]
  },
  {
   "cell_type": "code",
   "execution_count": null,
   "metadata": {},
   "outputs": [],
   "source": []
  }
 ],
 "metadata": {
  "kernelspec": {
   "display_name": "Python 3",
   "language": "python",
   "name": "python3"
  },
  "language_info": {
   "codemirror_mode": {
    "name": "ipython",
    "version": 3
   },
   "file_extension": ".py",
   "mimetype": "text/x-python",
   "name": "python",
   "nbconvert_exporter": "python",
   "pygments_lexer": "ipython3",
   "version": "3.5.2"
  }
 },
 "nbformat": 4,
 "nbformat_minor": 2
}
