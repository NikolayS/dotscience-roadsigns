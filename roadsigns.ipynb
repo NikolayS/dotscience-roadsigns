{
 "cells": [
  {
   "cell_type": "code",
   "execution_count": 1,
   "metadata": {},
   "outputs": [],
   "source": [
    "import numpy as np\n",
    "import pandas as pd\n",
    "import pickle\n",
    "import os\n",
    "import cv2\n",
    "import random\n",
    "import skimage.morphology as morp\n",
    "from skimage.filters import rank\n",
    "import matplotlib.pyplot as plt\n",
    "import tensorflow as tf\n",
    "import dotscience as ds"
   ]
  },
  {
   "cell_type": "code",
   "execution_count": 2,
   "metadata": {},
   "outputs": [],
   "source": [
    "ds.interactive()"
   ]
  },
  {
   "cell_type": "code",
   "execution_count": 3,
   "metadata": {},
   "outputs": [
    {
     "data": {
      "text/plain": [
       "'1.12.0'"
      ]
     },
     "execution_count": 3,
     "metadata": {},
     "output_type": "execute_result"
    }
   ],
   "source": [
    "# Show current TensorFlow version\n",
    "tf.__version__\n"
   ]
  },
  {
   "cell_type": "code",
   "execution_count": 4,
   "metadata": {},
   "outputs": [
    {
     "name": "stdout",
     "output_type": "stream",
     "text": [
      "Data already downloaded\n"
     ]
    }
   ],
   "source": [
    "%%bash\n",
    "DATAFILE=\"https://d17h27t6h515a5.cloudfront.net/topher/2017/February/5898cd6f_traffic-signs-data/traffic-signs-data.zip\"\n",
    "if [ -d \"/tmp/traffic-signs-data\" ]; then\n",
    "    echo \"Data already downloaded\"\n",
    "else\n",
    "    echo \"Downloading data from $DATAFILE\"\n",
    "    mkdir /tmp/traffic-signs-data\n",
    "    curl -s -o /tmp/traffic-signs-data/traffic-signs-data.zip $DATAFILE\n",
    "    (cd /tmp/traffic-signs-data && unzip traffic-signs-data.zip && rm -f traffic-signs-data.zip)\n",
    "fi\n"
   ]
  },
  {
   "cell_type": "code",
   "execution_count": 5,
   "metadata": {},
   "outputs": [],
   "source": [
    "training_file = \"/tmp/traffic-signs-data/train.p\"\n",
    "validation_file= \"/tmp/traffic-signs-data/valid.p\"\n",
    "testing_file = \"/tmp/traffic-signs-data/test.p\"\n",
    "\n",
    "ds.input(training_file)\n",
    "ds.input(validation_file)\n",
    "ds.input(testing_file)\n",
    "\n",
    "train = pickle.load(open(training_file,\"rb\"))\n",
    "valid = pickle.load(open(validation_file,\"rb\"))\n",
    "test = pickle.load(open(testing_file,\"rb\"))\n",
    "\n",
    "\n"
   ]
  },
  {
   "cell_type": "code",
   "execution_count": 6,
   "metadata": {},
   "outputs": [
    {
     "data": {
      "text/plain": [
       "'signnames.csv'"
      ]
     },
     "execution_count": 6,
     "metadata": {},
     "output_type": "execute_result"
    }
   ],
   "source": [
    "import csv\n",
    "# Mapping ClassID to traffic sign names\n",
    "signs = []\n",
    "with open('signnames.csv', 'r') as csvfile:\n",
    "    signnames = csv.reader(csvfile, delimiter=',')\n",
    "    next(signnames,None)\n",
    "    for row in signnames:\n",
    "        signs.append(row[1])\n",
    "    csvfile.close()\n",
    "    \n",
    "ds.input(\"signnames.csv\")"
   ]
  },
  {
   "cell_type": "code",
   "execution_count": 7,
   "metadata": {},
   "outputs": [
    {
     "name": "stdout",
     "output_type": "stream",
     "text": [
      "Number of training examples:  34799\n",
      "Number of testing examples:  12630\n",
      "Number of validation examples:  4410\n",
      "Image data shape = (32, 32, 3)\n",
      "Number of classes = 43\n"
     ]
    }
   ],
   "source": [
    "X_train, y_train = train['features'], train['labels']\n",
    "X_valid, y_valid = valid['features'], valid['labels']\n",
    "X_test, y_test = test['features'], test['labels']\n",
    "\n",
    "# Number of training examples\n",
    "n_train = X_train.shape[0]\n",
    "\n",
    "# Number of testing examples\n",
    "n_test = X_test.shape[0]\n",
    "\n",
    "# Number of validation examples.\n",
    "n_validation = X_valid.shape[0]\n",
    "\n",
    "# What's the shape of an traffic sign image?\n",
    "image_shape = X_train[0].shape\n",
    "\n",
    "# How many unique classes/labels there are in the dataset.\n",
    "n_classes = len(np.unique(y_train))\n",
    "\n",
    "print(\"Number of training examples: \", n_train)\n",
    "print(\"Number of testing examples: \", n_test)\n",
    "print(\"Number of validation examples: \", n_validation)\n",
    "print(\"Image data shape =\", image_shape)\n",
    "print(\"Number of classes =\", n_classes)"
   ]
  },
  {
   "cell_type": "code",
   "execution_count": 8,
   "metadata": {},
   "outputs": [
    {
     "data": {
      "text/plain": [
       "(32, 32, 3)"
      ]
     },
     "execution_count": 8,
     "metadata": {},
     "output_type": "execute_result"
    }
   ],
   "source": [
    "X_train[0].shape"
   ]
  },
  {
   "cell_type": "markdown",
   "metadata": {},
   "source": [
    "# preprocess data"
   ]
  },
  {
   "cell_type": "code",
   "execution_count": 9,
   "metadata": {},
   "outputs": [],
   "source": [
    "# define helper functions\n",
    "def list_images(dataset, dataset_y, ylabel=\"\", cmap=None):\n",
    "    \"\"\"\n",
    "    Display a list of images in a single figure with matplotlib.\n",
    "        Parameters:\n",
    "            images: An np.array compatible with plt.imshow.\n",
    "            lanel (Default = No label): A string to be used as a label for each image.\n",
    "            cmap (Default = None): Used to display gray images.\n",
    "    \"\"\"\n",
    "    plt.figure(figsize=(15, 16))\n",
    "    for i in range(6):\n",
    "        plt.subplot(1, 6, i+1)\n",
    "        indx = random.randint(0, len(dataset))\n",
    "        #Use gray scale color map if there is only one channel\n",
    "        cmap = 'gray' if len(dataset[indx].shape) == 2 else cmap\n",
    "        plt.imshow(dataset[indx], cmap = cmap)\n",
    "        plt.xlabel(signs[dataset_y[indx]])\n",
    "        plt.ylabel(ylabel)\n",
    "        plt.xticks([])\n",
    "        plt.yticks([])\n",
    "    plt.tight_layout(pad=0, h_pad=0, w_pad=0)\n",
    "    plt.show()\n",
    "    \n",
    "def histogram_plot(dataset, label):\n",
    "    \"\"\"\n",
    "    Plots a histogram of the input data.\n",
    "        Parameters:\n",
    "            dataset: Input data to be plotted as a histogram.\n",
    "            lanel: A string to be used as a label for the histogram.\n",
    "    \"\"\"\n",
    "    hist, bins = np.histogram(dataset, bins=n_classes)\n",
    "    width = 0.7 * (bins[1] - bins[0])\n",
    "    center = (bins[:-1] + bins[1:]) / 2\n",
    "    plt.bar(center, hist, align='center', width=width)\n",
    "    plt.xlabel(label)\n",
    "    plt.ylabel(\"Image count\")\n",
    "    plt.show()\n",
    "    \n",
    "def gray_scale(image):\n",
    "    \"\"\"\n",
    "    Convert images to gray scale.\n",
    "        Parameters:\n",
    "            image: An np.array compatible with plt.imshow.\n",
    "    \"\"\"\n",
    "    return cv2.cvtColor(image, cv2.COLOR_RGB2GRAY)\n",
    "\n",
    "def local_histo_equalize(image):\n",
    "    \"\"\"\n",
    "    Apply local histogram equalization to grayscale images.\n",
    "        Parameters:\n",
    "            image: A grayscale image.\n",
    "    \"\"\"\n",
    "    kernel = morp.disk(30)\n",
    "    img_local = rank.equalize(image, selem=kernel)\n",
    "    return img_local\n",
    "\n",
    "def image_normalize(image):\n",
    "    \"\"\"\n",
    "    Normalize images to [0, 1] scale.\n",
    "        Parameters:\n",
    "            image: An np.array compatible with plt.imshow.\n",
    "    \"\"\"\n",
    "    image = np.divide(image, 255)\n",
    "    return image\n",
    "\n",
    "def preprocess(data):\n",
    "    \"\"\"\n",
    "    Applying the preprocessing steps to the input data.\n",
    "        Parameters:\n",
    "            data: An np.array compatible with plt.imshow.\n",
    "    \"\"\"\n",
    "    gray_images = list(map(gray_scale, data))\n",
    "    equalized_images = list(map(local_histo_equalize, gray_images))\n",
    "    n_training = data.shape\n",
    "    normalized_images = np.zeros((n_training[0], n_training[1], n_training[2]))\n",
    "    for i, img in enumerate(equalized_images):\n",
    "        normalized_images[i] = image_normalize(img)\n",
    "    normalized_images = normalized_images[..., None]\n",
    "    return normalized_images"
   ]
  },
  {
   "cell_type": "code",
   "execution_count": 10,
   "metadata": {},
   "outputs": [],
   "source": [
    "X_valid_preprocessed = preprocess(X_valid)\n",
    "X_test_preprocessed = preprocess(X_test)\n",
    "X_train_preprocessed = preprocess(X_train)"
   ]
  },
  {
   "cell_type": "code",
   "execution_count": 11,
   "metadata": {},
   "outputs": [],
   "source": [
    "# list_images(X_train_preprocessed, y_train)"
   ]
  },
  {
   "cell_type": "markdown",
   "metadata": {},
   "source": [
    "# make model"
   ]
  },
  {
   "cell_type": "code",
   "execution_count": 15,
   "metadata": {},
   "outputs": [
    {
     "name": "stdout",
     "output_type": "stream",
     "text": [
      "Train on 34799 samples, validate on 4410 samples\n",
      "Epoch 1/100\n",
      "34799/34799 [==============================] - 4s 125us/step - loss: 0.6925 - acc: 0.8064 - val_loss: 0.2828 - val_acc: 0.9179\n",
      "Epoch 2/100\n",
      "34799/34799 [==============================] - 4s 114us/step - loss: 0.1095 - acc: 0.9683 - val_loss: 0.2251 - val_acc: 0.9340\n",
      "Epoch 3/100\n",
      "34799/34799 [==============================] - 4s 112us/step - loss: 0.0555 - acc: 0.9841 - val_loss: 0.2128 - val_acc: 0.9429\n",
      "Epoch 4/100\n",
      "34799/34799 [==============================] - 4s 112us/step - loss: 0.0411 - acc: 0.9876 - val_loss: 0.1988 - val_acc: 0.9485\n",
      "Epoch 5/100\n",
      "34799/34799 [==============================] - 4s 112us/step - loss: 0.0342 - acc: 0.9896 - val_loss: 0.2870 - val_acc: 0.9306\n",
      "Epoch 6/100\n",
      "34799/34799 [==============================] - 4s 112us/step - loss: 0.0306 - acc: 0.9907 - val_loss: 0.1923 - val_acc: 0.9501\n",
      "Epoch 7/100\n",
      "34799/34799 [==============================] - 4s 112us/step - loss: 0.0201 - acc: 0.9937 - val_loss: 0.1975 - val_acc: 0.9528\n",
      "Epoch 8/100\n",
      "34799/34799 [==============================] - 4s 112us/step - loss: 0.0176 - acc: 0.9948 - val_loss: 0.1834 - val_acc: 0.9576\n",
      "Epoch 9/100\n",
      "34799/34799 [==============================] - 4s 112us/step - loss: 0.0208 - acc: 0.9937 - val_loss: 0.2877 - val_acc: 0.9383\n"
     ]
    },
    {
     "data": {
      "text/plain": [
       "<tensorflow.python.keras.callbacks.History at 0x7fb2e1236a90>"
      ]
     },
     "execution_count": 15,
     "metadata": {},
     "output_type": "execute_result"
    }
   ],
   "source": [
    "num_classes=43\n",
    "model = tf.keras.models.Sequential()\n",
    "model.add(tf.keras.layers.Conv2D(32, kernel_size=(5, 5), strides=(1, 1), activation='relu', input_shape=(32, 32, 1)))\n",
    "model.add(tf.keras.layers.MaxPooling2D(pool_size=(2, 2), strides=(2, 2)))\n",
    "model.add(tf.keras.layers.Conv2D(32, (5, 5), activation='relu'))\n",
    "model.add(tf.keras.layers.MaxPooling2D(pool_size=(2, 2)))\n",
    "model.add(tf.keras.layers.Flatten())\n",
    "model.add(tf.keras.layers.Dense(1000, activation='relu'))\n",
    "model.add(tf.keras.layers.Dense(units = num_classes, activation='softmax'))\n",
    "\n",
    "model.compile(optimizer=ds.parameter(\"optimizer\", 'adam'),\n",
    "              loss='sparse_categorical_crossentropy',\n",
    "              metrics=['accuracy'])\n",
    "\n",
    "es = tf.keras.callbacks.EarlyStopping(monitor='acc')\n",
    "\n",
    "model.fit(X_train_preprocessed, y_train,\n",
    "          epochs=ds.parameter(\"epochs\", 100),\n",
    "          verbose=1,\n",
    "          validation_data=(X_valid_preprocessed, y_valid),\n",
    "          callbacks=[es])"
   ]
  },
  {
   "cell_type": "code",
   "execution_count": null,
   "metadata": {},
   "outputs": [],
   "source": []
  },
  {
   "cell_type": "code",
   "execution_count": 16,
   "metadata": {},
   "outputs": [
    {
     "name": "stdout",
     "output_type": "stream",
     "text": [
      "12630/12630 [==============================] - 1s 47us/step\n"
     ]
    },
    {
     "data": {
      "text/plain": [
       "[0.4551715929795614, 0.9190815518795264]"
      ]
     },
     "execution_count": 16,
     "metadata": {},
     "output_type": "execute_result"
    }
   ],
   "source": [
    "model.evaluate(X_test_preprocessed, y_test)"
   ]
  },
  {
   "cell_type": "code",
   "execution_count": 17,
   "metadata": {},
   "outputs": [
    {
     "name": "stdout",
     "output_type": "stream",
     "text": [
      "12630/12630 [==============================] - 1s 47us/step\n"
     ]
    },
    {
     "data": {
      "text/plain": [
       "0.9190815518795264"
      ]
     },
     "execution_count": 17,
     "metadata": {},
     "output_type": "execute_result"
    }
   ],
   "source": [
    "ds.summary(\"accuracy\", model.evaluate(X_test_preprocessed, y_test)[1])"
   ]
  },
  {
   "cell_type": "markdown",
   "metadata": {},
   "source": [
    "# Sanity check predictions"
   ]
  },
  {
   "cell_type": "code",
   "execution_count": 18,
   "metadata": {},
   "outputs": [
    {
     "data": {
      "text/plain": [
       "(12630, 43)"
      ]
     },
     "execution_count": 18,
     "metadata": {},
     "output_type": "execute_result"
    }
   ],
   "source": [
    "model.predict(X_test_preprocessed).shape"
   ]
  },
  {
   "cell_type": "code",
   "execution_count": 19,
   "metadata": {},
   "outputs": [],
   "source": [
    "predictions = pd.DataFrame(data=model.predict(X_test_preprocessed))"
   ]
  },
  {
   "cell_type": "code",
   "execution_count": 20,
   "metadata": {},
   "outputs": [
    {
     "data": {
      "text/html": [
       "<div>\n",
       "<style scoped>\n",
       "    .dataframe tbody tr th:only-of-type {\n",
       "        vertical-align: middle;\n",
       "    }\n",
       "\n",
       "    .dataframe tbody tr th {\n",
       "        vertical-align: top;\n",
       "    }\n",
       "\n",
       "    .dataframe thead th {\n",
       "        text-align: right;\n",
       "    }\n",
       "</style>\n",
       "<table border=\"1\" class=\"dataframe\">\n",
       "  <thead>\n",
       "    <tr style=\"text-align: right;\">\n",
       "      <th></th>\n",
       "      <th>0</th>\n",
       "      <th>1</th>\n",
       "      <th>2</th>\n",
       "      <th>3</th>\n",
       "      <th>4</th>\n",
       "      <th>5</th>\n",
       "      <th>6</th>\n",
       "      <th>7</th>\n",
       "      <th>8</th>\n",
       "      <th>9</th>\n",
       "      <th>...</th>\n",
       "      <th>33</th>\n",
       "      <th>34</th>\n",
       "      <th>35</th>\n",
       "      <th>36</th>\n",
       "      <th>37</th>\n",
       "      <th>38</th>\n",
       "      <th>39</th>\n",
       "      <th>40</th>\n",
       "      <th>41</th>\n",
       "      <th>42</th>\n",
       "    </tr>\n",
       "  </thead>\n",
       "  <tbody>\n",
       "    <tr>\n",
       "      <th>0</th>\n",
       "      <td>0.000000e+00</td>\n",
       "      <td>0.000000e+00</td>\n",
       "      <td>2.159056e-35</td>\n",
       "      <td>4.823136e-27</td>\n",
       "      <td>2.471685e-32</td>\n",
       "      <td>8.535417e-14</td>\n",
       "      <td>2.041862e-35</td>\n",
       "      <td>1.314291e-16</td>\n",
       "      <td>1.126326e-33</td>\n",
       "      <td>9.061286e-12</td>\n",
       "      <td>...</td>\n",
       "      <td>6.970119e-31</td>\n",
       "      <td>0.000000e+00</td>\n",
       "      <td>9.605378e-22</td>\n",
       "      <td>1.773956e-32</td>\n",
       "      <td>2.242482e-25</td>\n",
       "      <td>2.036040e-32</td>\n",
       "      <td>1.697348e-27</td>\n",
       "      <td>3.178313e-15</td>\n",
       "      <td>7.080307e-33</td>\n",
       "      <td>2.597204e-29</td>\n",
       "    </tr>\n",
       "    <tr>\n",
       "      <th>1</th>\n",
       "      <td>1.283989e-10</td>\n",
       "      <td>9.963673e-01</td>\n",
       "      <td>3.239854e-03</td>\n",
       "      <td>7.388196e-11</td>\n",
       "      <td>6.807251e-10</td>\n",
       "      <td>3.585807e-04</td>\n",
       "      <td>1.713010e-05</td>\n",
       "      <td>1.460022e-05</td>\n",
       "      <td>9.734922e-13</td>\n",
       "      <td>1.135939e-16</td>\n",
       "      <td>...</td>\n",
       "      <td>3.128155e-12</td>\n",
       "      <td>1.194699e-16</td>\n",
       "      <td>1.146797e-11</td>\n",
       "      <td>1.513021e-11</td>\n",
       "      <td>1.363647e-12</td>\n",
       "      <td>2.689255e-10</td>\n",
       "      <td>4.735400e-13</td>\n",
       "      <td>3.128137e-08</td>\n",
       "      <td>6.946134e-14</td>\n",
       "      <td>3.816856e-09</td>\n",
       "    </tr>\n",
       "    <tr>\n",
       "      <th>2</th>\n",
       "      <td>2.802987e-37</td>\n",
       "      <td>1.109092e-23</td>\n",
       "      <td>6.117242e-30</td>\n",
       "      <td>5.240105e-30</td>\n",
       "      <td>0.000000e+00</td>\n",
       "      <td>8.470579e-33</td>\n",
       "      <td>5.268023e-38</td>\n",
       "      <td>0.000000e+00</td>\n",
       "      <td>8.134854e-36</td>\n",
       "      <td>9.926313e-37</td>\n",
       "      <td>...</td>\n",
       "      <td>0.000000e+00</td>\n",
       "      <td>6.394906e-25</td>\n",
       "      <td>0.000000e+00</td>\n",
       "      <td>8.981929e-27</td>\n",
       "      <td>0.000000e+00</td>\n",
       "      <td>1.000000e+00</td>\n",
       "      <td>0.000000e+00</td>\n",
       "      <td>2.214493e-33</td>\n",
       "      <td>0.000000e+00</td>\n",
       "      <td>0.000000e+00</td>\n",
       "    </tr>\n",
       "    <tr>\n",
       "      <th>3</th>\n",
       "      <td>1.678916e-34</td>\n",
       "      <td>3.515338e-18</td>\n",
       "      <td>3.149775e-23</td>\n",
       "      <td>8.795029e-30</td>\n",
       "      <td>1.985448e-37</td>\n",
       "      <td>1.202124e-22</td>\n",
       "      <td>3.338843e-36</td>\n",
       "      <td>1.076737e-25</td>\n",
       "      <td>3.092067e-33</td>\n",
       "      <td>6.961644e-20</td>\n",
       "      <td>...</td>\n",
       "      <td>1.000000e+00</td>\n",
       "      <td>6.812834e-22</td>\n",
       "      <td>8.358407e-23</td>\n",
       "      <td>3.880245e-33</td>\n",
       "      <td>1.324164e-21</td>\n",
       "      <td>2.070822e-26</td>\n",
       "      <td>3.622578e-22</td>\n",
       "      <td>6.111989e-24</td>\n",
       "      <td>4.733897e-37</td>\n",
       "      <td>1.032092e-33</td>\n",
       "    </tr>\n",
       "    <tr>\n",
       "      <th>4</th>\n",
       "      <td>9.163435e-38</td>\n",
       "      <td>5.495246e-24</td>\n",
       "      <td>3.435799e-29</td>\n",
       "      <td>3.039237e-38</td>\n",
       "      <td>0.000000e+00</td>\n",
       "      <td>2.938356e-23</td>\n",
       "      <td>2.658953e-29</td>\n",
       "      <td>3.285590e-27</td>\n",
       "      <td>1.838138e-38</td>\n",
       "      <td>0.000000e+00</td>\n",
       "      <td>...</td>\n",
       "      <td>3.496816e-32</td>\n",
       "      <td>1.573456e-36</td>\n",
       "      <td>0.000000e+00</td>\n",
       "      <td>0.000000e+00</td>\n",
       "      <td>0.000000e+00</td>\n",
       "      <td>6.379159e-35</td>\n",
       "      <td>0.000000e+00</td>\n",
       "      <td>5.911611e-26</td>\n",
       "      <td>3.781360e-34</td>\n",
       "      <td>3.705494e-26</td>\n",
       "    </tr>\n",
       "  </tbody>\n",
       "</table>\n",
       "<p>5 rows × 43 columns</p>\n",
       "</div>"
      ],
      "text/plain": [
       "             0             1             2             3             4   \\\n",
       "0  0.000000e+00  0.000000e+00  2.159056e-35  4.823136e-27  2.471685e-32   \n",
       "1  1.283989e-10  9.963673e-01  3.239854e-03  7.388196e-11  6.807251e-10   \n",
       "2  2.802987e-37  1.109092e-23  6.117242e-30  5.240105e-30  0.000000e+00   \n",
       "3  1.678916e-34  3.515338e-18  3.149775e-23  8.795029e-30  1.985448e-37   \n",
       "4  9.163435e-38  5.495246e-24  3.435799e-29  3.039237e-38  0.000000e+00   \n",
       "\n",
       "             5             6             7             8             9   \\\n",
       "0  8.535417e-14  2.041862e-35  1.314291e-16  1.126326e-33  9.061286e-12   \n",
       "1  3.585807e-04  1.713010e-05  1.460022e-05  9.734922e-13  1.135939e-16   \n",
       "2  8.470579e-33  5.268023e-38  0.000000e+00  8.134854e-36  9.926313e-37   \n",
       "3  1.202124e-22  3.338843e-36  1.076737e-25  3.092067e-33  6.961644e-20   \n",
       "4  2.938356e-23  2.658953e-29  3.285590e-27  1.838138e-38  0.000000e+00   \n",
       "\n",
       "       ...                 33            34            35            36  \\\n",
       "0      ...       6.970119e-31  0.000000e+00  9.605378e-22  1.773956e-32   \n",
       "1      ...       3.128155e-12  1.194699e-16  1.146797e-11  1.513021e-11   \n",
       "2      ...       0.000000e+00  6.394906e-25  0.000000e+00  8.981929e-27   \n",
       "3      ...       1.000000e+00  6.812834e-22  8.358407e-23  3.880245e-33   \n",
       "4      ...       3.496816e-32  1.573456e-36  0.000000e+00  0.000000e+00   \n",
       "\n",
       "             37            38            39            40            41  \\\n",
       "0  2.242482e-25  2.036040e-32  1.697348e-27  3.178313e-15  7.080307e-33   \n",
       "1  1.363647e-12  2.689255e-10  4.735400e-13  3.128137e-08  6.946134e-14   \n",
       "2  0.000000e+00  1.000000e+00  0.000000e+00  2.214493e-33  0.000000e+00   \n",
       "3  1.324164e-21  2.070822e-26  3.622578e-22  6.111989e-24  4.733897e-37   \n",
       "4  0.000000e+00  6.379159e-35  0.000000e+00  5.911611e-26  3.781360e-34   \n",
       "\n",
       "             42  \n",
       "0  2.597204e-29  \n",
       "1  3.816856e-09  \n",
       "2  0.000000e+00  \n",
       "3  1.032092e-33  \n",
       "4  3.705494e-26  \n",
       "\n",
       "[5 rows x 43 columns]"
      ]
     },
     "execution_count": 20,
     "metadata": {},
     "output_type": "execute_result"
    }
   ],
   "source": [
    "predictions.head()"
   ]
  },
  {
   "cell_type": "code",
   "execution_count": 21,
   "metadata": {},
   "outputs": [
    {
     "name": "stdout",
     "output_type": "stream",
     "text": [
      "['0', 'Speed limit (20km/h)']\n",
      "['1', 'Speed limit (30km/h)']\n",
      "['2', 'Speed limit (50km/h)']\n",
      "['3', 'Speed limit (60km/h)']\n",
      "['4', 'Speed limit (70km/h)']\n",
      "['5', 'Speed limit (80km/h)']\n",
      "['6', 'End of speed limit (80km/h)']\n",
      "['7', 'Speed limit (100km/h)']\n",
      "['8', 'Speed limit (120km/h)']\n",
      "['9', 'No passing']\n",
      "['10', 'No passing for vehicles over 3.5 metric tons']\n",
      "['11', 'Right-of-way at the next intersection']\n",
      "['12', 'Priority road']\n",
      "['13', 'Yield']\n",
      "['14', 'Stop']\n",
      "['15', 'No vehicles']\n",
      "['16', 'Vehicles over 3.5 metric tons prohibited']\n",
      "['17', 'No entry']\n",
      "['18', 'General caution']\n",
      "['19', 'Dangerous curve to the left']\n",
      "['20', 'Dangerous curve to the right']\n",
      "['21', 'Double curve']\n",
      "['22', 'Bumpy road']\n",
      "['23', 'Slippery road']\n",
      "['24', 'Road narrows on the right']\n",
      "['25', 'Road work']\n",
      "['26', 'Traffic signals']\n",
      "['27', 'Pedestrians']\n",
      "['28', 'Children crossing']\n",
      "['29', 'Bicycles crossing']\n",
      "['30', 'Beware of ice/snow']\n",
      "['31', 'Wild animals crossing']\n",
      "['32', 'End of all speed and passing limits']\n",
      "['33', 'Turn right ahead']\n",
      "['34', 'Turn left ahead']\n",
      "['35', 'Ahead only']\n",
      "['36', 'Go straight or right']\n",
      "['37', 'Go straight or left']\n",
      "['38', 'Keep right']\n",
      "['39', 'Keep left']\n",
      "['40', 'Roundabout mandatory']\n",
      "['41', 'End of no passing']\n",
      "['42', 'End of no passing by vehicles over 3.5 metric tons']\n"
     ]
    }
   ],
   "source": [
    "column_mapper = {}\n",
    "f = csv.reader(open(\"signnames.csv\"))\n",
    "next(f) # skip header\n",
    "counter = 0\n",
    "for row in f:\n",
    "    print(row)\n",
    "    signname = row[1]\n",
    "    column_mapper[counter] = signname\n",
    "    counter += 1\n",
    "    "
   ]
  },
  {
   "cell_type": "code",
   "execution_count": 22,
   "metadata": {},
   "outputs": [],
   "source": [
    "predictions = predictions.rename(columns=column_mapper)"
   ]
  },
  {
   "cell_type": "code",
   "execution_count": 23,
   "metadata": {},
   "outputs": [
    {
     "data": {
      "image/png": "[encoded data removed]",
      "text/plain": [
       "<Figure size 1080x1152 with 6 Axes>"
      ]
     },
     "metadata": {},
     "output_type": "display_data"
    }
   ],
   "source": [
    "list_images(X_test, y_test)\n"
   ]
  },
  {
   "cell_type": "code",
   "execution_count": 24,
   "metadata": {},
   "outputs": [],
   "source": [
    "def list_image(dataset, index, cmap=None):\n",
    "    \"\"\"\n",
    "    Display a list of images in a single figure with matplotlib.\n",
    "        Parameters:\n",
    "            images: An np.array compatible with plt.imshow.\n",
    "            lanel (Default = No label): A string to be used as a label for each image.\n",
    "            cmap (Default = None): Used to display gray images.\n",
    "    \"\"\"\n",
    "    plt.figure(figsize=(10, 16))\n",
    "    plt.subplot()\n",
    "    #Use gray scale color map if there is only one channel\n",
    "    cmap = 'gray' if len(dataset[index].shape) == 2 else cmap\n",
    "    plt.imshow(dataset[index], cmap = cmap)\n",
    "    #plt.xlabel(signs[dataset_y[indx]])\n",
    "    #plt.ylabel(ylabel)\n",
    "    plt.xticks([])\n",
    "    plt.yticks([])\n",
    "    plt.tight_layout(pad=0, h_pad=0, w_pad=0)\n",
    "    plt.show()"
   ]
  },
  {
   "cell_type": "code",
   "execution_count": 25,
   "metadata": {},
   "outputs": [
    {
     "data": {
      "image/png": "[encoded data removed]",
      "text/plain": [
       "<Figure size 720x1152 with 1 Axes>"
      ]
     },
     "metadata": {},
     "output_type": "display_data"
    }
   ],
   "source": [
    "list_image(X_test, 1)"
   ]
  },
  {
   "cell_type": "code",
   "execution_count": 26,
   "metadata": {},
   "outputs": [
    {
     "data": {
      "text/html": [
       "<div>\n",
       "<style scoped>\n",
       "    .dataframe tbody tr th:only-of-type {\n",
       "        vertical-align: middle;\n",
       "    }\n",
       "\n",
       "    .dataframe tbody tr th {\n",
       "        vertical-align: top;\n",
       "    }\n",
       "\n",
       "    .dataframe thead th {\n",
       "        text-align: right;\n",
       "    }\n",
       "</style>\n",
       "<table border=\"1\" class=\"dataframe\">\n",
       "  <thead>\n",
       "    <tr style=\"text-align: right;\">\n",
       "      <th></th>\n",
       "      <th>0</th>\n",
       "    </tr>\n",
       "  </thead>\n",
       "  <tbody>\n",
       "    <tr>\n",
       "      <th>0</th>\n",
       "      <td>Vehicles over 3.5 metric tons prohibited</td>\n",
       "    </tr>\n",
       "    <tr>\n",
       "      <th>1</th>\n",
       "      <td>Speed limit (30km/h)</td>\n",
       "    </tr>\n",
       "    <tr>\n",
       "      <th>2</th>\n",
       "      <td>Keep right</td>\n",
       "    </tr>\n",
       "    <tr>\n",
       "      <th>3</th>\n",
       "      <td>Turn right ahead</td>\n",
       "    </tr>\n",
       "    <tr>\n",
       "      <th>4</th>\n",
       "      <td>Right-of-way at the next intersection</td>\n",
       "    </tr>\n",
       "    <tr>\n",
       "      <th>5</th>\n",
       "      <td>Keep right</td>\n",
       "    </tr>\n",
       "    <tr>\n",
       "      <th>6</th>\n",
       "      <td>General caution</td>\n",
       "    </tr>\n",
       "    <tr>\n",
       "      <th>7</th>\n",
       "      <td>Priority road</td>\n",
       "    </tr>\n",
       "    <tr>\n",
       "      <th>8</th>\n",
       "      <td>Road work</td>\n",
       "    </tr>\n",
       "    <tr>\n",
       "      <th>9</th>\n",
       "      <td>Ahead only</td>\n",
       "    </tr>\n",
       "    <tr>\n",
       "      <th>10</th>\n",
       "      <td>Priority road</td>\n",
       "    </tr>\n",
       "    <tr>\n",
       "      <th>11</th>\n",
       "      <td>Speed limit (100km/h)</td>\n",
       "    </tr>\n",
       "    <tr>\n",
       "      <th>12</th>\n",
       "      <td>Slippery road</td>\n",
       "    </tr>\n",
       "    <tr>\n",
       "      <th>13</th>\n",
       "      <td>Speed limit (100km/h)</td>\n",
       "    </tr>\n",
       "    <tr>\n",
       "      <th>14</th>\n",
       "      <td>Speed limit (70km/h)</td>\n",
       "    </tr>\n",
       "    <tr>\n",
       "      <th>15</th>\n",
       "      <td>No passing</td>\n",
       "    </tr>\n",
       "    <tr>\n",
       "      <th>16</th>\n",
       "      <td>Wild animals crossing</td>\n",
       "    </tr>\n",
       "    <tr>\n",
       "      <th>17</th>\n",
       "      <td>Dangerous curve to the right</td>\n",
       "    </tr>\n",
       "    <tr>\n",
       "      <th>18</th>\n",
       "      <td>Traffic signals</td>\n",
       "    </tr>\n",
       "    <tr>\n",
       "      <th>19</th>\n",
       "      <td>Keep right</td>\n",
       "    </tr>\n",
       "    <tr>\n",
       "      <th>20</th>\n",
       "      <td>Speed limit (70km/h)</td>\n",
       "    </tr>\n",
       "    <tr>\n",
       "      <th>21</th>\n",
       "      <td>Turn right ahead</td>\n",
       "    </tr>\n",
       "    <tr>\n",
       "      <th>22</th>\n",
       "      <td>No passing</td>\n",
       "    </tr>\n",
       "    <tr>\n",
       "      <th>23</th>\n",
       "      <td>Speed limit (60km/h)</td>\n",
       "    </tr>\n",
       "    <tr>\n",
       "      <th>24</th>\n",
       "      <td>Speed limit (30km/h)</td>\n",
       "    </tr>\n",
       "    <tr>\n",
       "      <th>25</th>\n",
       "      <td>Right-of-way at the next intersection</td>\n",
       "    </tr>\n",
       "    <tr>\n",
       "      <th>26</th>\n",
       "      <td>Yield</td>\n",
       "    </tr>\n",
       "    <tr>\n",
       "      <th>27</th>\n",
       "      <td>No passing for vehicles over 3.5 metric tons</td>\n",
       "    </tr>\n",
       "    <tr>\n",
       "      <th>28</th>\n",
       "      <td>No passing</td>\n",
       "    </tr>\n",
       "    <tr>\n",
       "      <th>29</th>\n",
       "      <td>Right-of-way at the next intersection</td>\n",
       "    </tr>\n",
       "    <tr>\n",
       "      <th>...</th>\n",
       "      <td>...</td>\n",
       "    </tr>\n",
       "    <tr>\n",
       "      <th>12600</th>\n",
       "      <td>Ahead only</td>\n",
       "    </tr>\n",
       "    <tr>\n",
       "      <th>12601</th>\n",
       "      <td>Keep right</td>\n",
       "    </tr>\n",
       "    <tr>\n",
       "      <th>12602</th>\n",
       "      <td>Road narrows on the right</td>\n",
       "    </tr>\n",
       "    <tr>\n",
       "      <th>12603</th>\n",
       "      <td>Yield</td>\n",
       "    </tr>\n",
       "    <tr>\n",
       "      <th>12604</th>\n",
       "      <td>Ahead only</td>\n",
       "    </tr>\n",
       "    <tr>\n",
       "      <th>12605</th>\n",
       "      <td>Road work</td>\n",
       "    </tr>\n",
       "    <tr>\n",
       "      <th>12606</th>\n",
       "      <td>Keep right</td>\n",
       "    </tr>\n",
       "    <tr>\n",
       "      <th>12607</th>\n",
       "      <td>Speed limit (30km/h)</td>\n",
       "    </tr>\n",
       "    <tr>\n",
       "      <th>12608</th>\n",
       "      <td>Traffic signals</td>\n",
       "    </tr>\n",
       "    <tr>\n",
       "      <th>12609</th>\n",
       "      <td>Speed limit (100km/h)</td>\n",
       "    </tr>\n",
       "    <tr>\n",
       "      <th>12610</th>\n",
       "      <td>Ahead only</td>\n",
       "    </tr>\n",
       "    <tr>\n",
       "      <th>12611</th>\n",
       "      <td>Right-of-way at the next intersection</td>\n",
       "    </tr>\n",
       "    <tr>\n",
       "      <th>12612</th>\n",
       "      <td>Keep left</td>\n",
       "    </tr>\n",
       "    <tr>\n",
       "      <th>12613</th>\n",
       "      <td>Speed limit (120km/h)</td>\n",
       "    </tr>\n",
       "    <tr>\n",
       "      <th>12614</th>\n",
       "      <td>Speed limit (20km/h)</td>\n",
       "    </tr>\n",
       "    <tr>\n",
       "      <th>12615</th>\n",
       "      <td>No passing for vehicles over 3.5 metric tons</td>\n",
       "    </tr>\n",
       "    <tr>\n",
       "      <th>12616</th>\n",
       "      <td>No passing for vehicles over 3.5 metric tons</td>\n",
       "    </tr>\n",
       "    <tr>\n",
       "      <th>12617</th>\n",
       "      <td>Wild animals crossing</td>\n",
       "    </tr>\n",
       "    <tr>\n",
       "      <th>12618</th>\n",
       "      <td>Speed limit (120km/h)</td>\n",
       "    </tr>\n",
       "    <tr>\n",
       "      <th>12619</th>\n",
       "      <td>Wild animals crossing</td>\n",
       "    </tr>\n",
       "    <tr>\n",
       "      <th>12620</th>\n",
       "      <td>Yield</td>\n",
       "    </tr>\n",
       "    <tr>\n",
       "      <th>12621</th>\n",
       "      <td>Speed limit (80km/h)</td>\n",
       "    </tr>\n",
       "    <tr>\n",
       "      <th>12622</th>\n",
       "      <td>Priority road</td>\n",
       "    </tr>\n",
       "    <tr>\n",
       "      <th>12623</th>\n",
       "      <td>Ahead only</td>\n",
       "    </tr>\n",
       "    <tr>\n",
       "      <th>12624</th>\n",
       "      <td>Road work</td>\n",
       "    </tr>\n",
       "    <tr>\n",
       "      <th>12625</th>\n",
       "      <td>Priority road</td>\n",
       "    </tr>\n",
       "    <tr>\n",
       "      <th>12626</th>\n",
       "      <td>Turn right ahead</td>\n",
       "    </tr>\n",
       "    <tr>\n",
       "      <th>12627</th>\n",
       "      <td>Speed limit (80km/h)</td>\n",
       "    </tr>\n",
       "    <tr>\n",
       "      <th>12628</th>\n",
       "      <td>Speed limit (100km/h)</td>\n",
       "    </tr>\n",
       "    <tr>\n",
       "      <th>12629</th>\n",
       "      <td>No passing for vehicles over 3.5 metric tons</td>\n",
       "    </tr>\n",
       "  </tbody>\n",
       "</table>\n",
       "<p>12630 rows × 1 columns</p>\n",
       "</div>"
      ],
      "text/plain": [
       "                                                  0\n",
       "0          Vehicles over 3.5 metric tons prohibited\n",
       "1                              Speed limit (30km/h)\n",
       "2                                        Keep right\n",
       "3                                  Turn right ahead\n",
       "4             Right-of-way at the next intersection\n",
       "5                                        Keep right\n",
       "6                                   General caution\n",
       "7                                     Priority road\n",
       "8                                         Road work\n",
       "9                                        Ahead only\n",
       "10                                    Priority road\n",
       "11                            Speed limit (100km/h)\n",
       "12                                    Slippery road\n",
       "13                            Speed limit (100km/h)\n",
       "14                             Speed limit (70km/h)\n",
       "15                                       No passing\n",
       "16                            Wild animals crossing\n",
       "17                     Dangerous curve to the right\n",
       "18                                  Traffic signals\n",
       "19                                       Keep right\n",
       "20                             Speed limit (70km/h)\n",
       "21                                 Turn right ahead\n",
       "22                                       No passing\n",
       "23                             Speed limit (60km/h)\n",
       "24                             Speed limit (30km/h)\n",
       "25            Right-of-way at the next intersection\n",
       "26                                            Yield\n",
       "27     No passing for vehicles over 3.5 metric tons\n",
       "28                                       No passing\n",
       "29            Right-of-way at the next intersection\n",
       "...                                             ...\n",
       "12600                                    Ahead only\n",
       "12601                                    Keep right\n",
       "12602                     Road narrows on the right\n",
       "12603                                         Yield\n",
       "12604                                    Ahead only\n",
       "12605                                     Road work\n",
       "12606                                    Keep right\n",
       "12607                          Speed limit (30km/h)\n",
       "12608                               Traffic signals\n",
       "12609                         Speed limit (100km/h)\n",
       "12610                                    Ahead only\n",
       "12611         Right-of-way at the next intersection\n",
       "12612                                     Keep left\n",
       "12613                         Speed limit (120km/h)\n",
       "12614                          Speed limit (20km/h)\n",
       "12615  No passing for vehicles over 3.5 metric tons\n",
       "12616  No passing for vehicles over 3.5 metric tons\n",
       "12617                         Wild animals crossing\n",
       "12618                         Speed limit (120km/h)\n",
       "12619                         Wild animals crossing\n",
       "12620                                         Yield\n",
       "12621                          Speed limit (80km/h)\n",
       "12622                                 Priority road\n",
       "12623                                    Ahead only\n",
       "12624                                     Road work\n",
       "12625                                 Priority road\n",
       "12626                              Turn right ahead\n",
       "12627                          Speed limit (80km/h)\n",
       "12628                         Speed limit (100km/h)\n",
       "12629  No passing for vehicles over 3.5 metric tons\n",
       "\n",
       "[12630 rows x 1 columns]"
      ]
     },
     "execution_count": 26,
     "metadata": {},
     "output_type": "execute_result"
    }
   ],
   "source": [
    "pd.DataFrame({n: predictions.T[col].nlargest(1).index.tolist() \n",
    "                  for n, col in enumerate(predictions.T)}).T"
   ]
  },
  {
   "cell_type": "code",
   "execution_count": 27,
   "metadata": {},
   "outputs": [
    {
     "name": "stdout",
     "output_type": "stream",
     "text": [
      "export_path = ./model/1\n",
      "\n",
      "\n",
      "Already saved a model, cleaning up\n",
      "\n",
      "WARNING:tensorflow:From /usr/local/lib/python3.5/dist-packages/tensorflow/python/saved_model/simple_save.py:85: calling SavedModelBuilder.add_meta_graph_and_variables (from tensorflow.python.saved_model.builder_impl) with legacy_init_op is deprecated and will be removed in a future version.\n",
      "Instructions for updating:\n",
      "Pass your op to the equivalent parameter main_op instead.\n",
      "INFO:tensorflow:Assets added to graph.\n",
      "INFO:tensorflow:No assets to write.\n",
      "INFO:tensorflow:SavedModel written to: ./model/1/saved_model.pb\n",
      "\n",
      "Saved model:\n",
      "total 1\n",
      "-rw-r--r-- 1 root root 499658 Mar 14 20:50 saved_model.pb\n",
      "drwxr-xr-x 2 root root      4 Mar 14 20:50 variables\n"
     ]
    }
   ],
   "source": [
    "# Fetch the Keras session and save the model\n",
    "# The signature definition is defined by the input and output tensors,\n",
    "# and stored with the default serving key\n",
    "import tempfile\n",
    "\n",
    "MODEL_DIR = \"./model\"\n",
    "version = 1\n",
    "export_path = os.path.join(MODEL_DIR, str(version))\n",
    "print('export_path = {}\\n'.format(export_path))\n",
    "if os.path.isdir(export_path):\n",
    "  print('\\nAlready saved a model, cleaning up\\n')\n",
    "  !rm -r {export_path}\n",
    "\n",
    "tf.saved_model.simple_save(\n",
    "    tf.keras.backend.get_session(),\n",
    "    export_path,\n",
    "    inputs={'input_image': model.input},\n",
    "    outputs={t.name:t for t in model.outputs})\n",
    "\n",
    "print('\\nSaved model:')\n",
    "!ls -l {export_path}"
   ]
  },
  {
   "cell_type": "code",
   "execution_count": 28,
   "metadata": {},
   "outputs": [
    {
     "name": "stdout",
     "output_type": "stream",
     "text": [
      "\n",
      "MetaGraphDef with tag-set: 'serve' contains the following SignatureDefs:\n",
      "\n",
      "signature_def['serving_default']:\n",
      "  The given SavedModel SignatureDef contains the following input(s):\n",
      "    inputs['input_image'] tensor_info:\n",
      "        dtype: DT_FLOAT\n",
      "        shape: (-1, 32, 32, 1)\n",
      "        name: conv2d_6_input:0\n",
      "  The given SavedModel SignatureDef contains the following output(s):\n",
      "    outputs['dense_7/Softmax:0'] tensor_info:\n",
      "        dtype: DT_FLOAT\n",
      "        shape: (-1, 43)\n",
      "        name: dense_7/Softmax:0\n",
      "  Method name is: tensorflow/serving/predict\n"
     ]
    }
   ],
   "source": [
    "!saved_model_cli show --dir {export_path} --all\n"
   ]
  },
  {
   "cell_type": "code",
   "execution_count": 29,
   "metadata": {},
   "outputs": [
    {
     "data": {
      "text/plain": [
       "'1.12.0'"
      ]
     },
     "execution_count": 29,
     "metadata": {},
     "output_type": "execute_result"
    }
   ],
   "source": [
    "ds.label(\"model.directory\", ds.output(\"model\"))\n",
    "ds.label(\"model.framework\", \"tensorflow\")\n",
    "ds.label(\"model.framework.version\", tf.__version__)"
   ]
  },
  {
   "cell_type": "code",
   "execution_count": 30,
   "metadata": {},
   "outputs": [
    {
     "name": "stdout",
     "output_type": "stream",
     "text": [
      "[[DOTSCIENCE-RUN:4f2009ba-13eb-47c3-9b97-a85ba7de3baf]]{\n",
      "    \"end\": \"20190314T205022.206765\",\n",
      "    \"input\": [\n",
      "        \"/tmp/traffic-signs-data/valid.p\",\n",
      "        \"signnames.csv\",\n",
      "        \"/tmp/traffic-signs-data/train.p\",\n",
      "        \"/tmp/traffic-signs-data/test.p\"\n",
      "    ],\n",
      "    \"labels\": {\n",
      "        \"model.directory\": \"model\",\n",
      "        \"model.framework\": \"tensorflow\",\n",
      "        \"model.framework.version\": \"1.12.0\"\n",
      "    },\n",
      "    \"output\": [\n",
      "        \"model\"\n",
      "    ],\n",
      "    \"parameters\": {\n",
      "        \"epochs\": \"100\",\n",
      "        \"optimizer\": \"adam\"\n",
      "    },\n",
      "    \"start\": \"20190314T204341.796118\",\n",
      "    \"summary\": {\n",
      "        \"accuracy\": \"0.9190815518795264\"\n",
      "    },\n",
      "    \"version\": \"1\"\n",
      "}[[/DOTSCIENCE-RUN:4f2009ba-13eb-47c3-9b97-a85ba7de3baf]]\n"
     ]
    }
   ],
   "source": [
    "ds.publish()"
   ]
  },
  {
   "cell_type": "code",
   "execution_count": null,
   "metadata": {},
   "outputs": [],
   "source": []
  }
 ],
 "metadata": {
  "kernelspec": {
   "display_name": "Python 3",
   "language": "python",
   "name": "python3"
  },
  "language_info": {
   "codemirror_mode": {
    "name": "ipython",
    "version": 3
   },
   "file_extension": ".py",
   "mimetype": "text/x-python",
   "name": "python",
   "nbconvert_exporter": "python",
   "pygments_lexer": "ipython3",
   "version": "3.5.2"
  }
 },
 "nbformat": 4,
 "nbformat_minor": 2
}
