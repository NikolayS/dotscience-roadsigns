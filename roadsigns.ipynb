{
 "cells": [
  {
   "cell_type": "markdown",
   "metadata": {},
   "source": [
    "# Dotscience Roadsigns Demo"
   ]
  },
  {
   "cell_type": "code",
   "execution_count": 21,
   "metadata": {},
   "outputs": [],
   "source": [
    "import dotscience as ds\n",
    "import numpy as np\n",
    "import pandas as pd\n",
    "import pickle\n",
    "import os\n",
    "import cv2\n",
    "import random\n",
    "import skimage.morphology as morp\n",
    "from skimage.filters import rank\n",
    "import matplotlib.pyplot as plt\n",
    "import tensorflow as tf"
   ]
  },
  {
   "cell_type": "code",
   "execution_count": 22,
   "metadata": {},
   "outputs": [],
   "source": [
    "ds.interactive()"
   ]
  },
  {
   "cell_type": "code",
   "execution_count": 23,
   "metadata": {},
   "outputs": [],
   "source": [
    "ds.input(\"train.p\")\n",
    "ds.input(\"valid.p\")\n",
    "ds.input(\"test.p\")\n",
    "train = pickle.load(open(\"train.p\",\"rb\"))\n",
    "valid = pickle.load(open(\"valid.p\",\"rb\"))\n",
    "test = pickle.load(open(\"test.p\",\"rb\"))"
   ]
  },
  {
   "cell_type": "code",
   "execution_count": 24,
   "metadata": {},
   "outputs": [
    {
     "data": {
      "text/plain": [
       "'signnames.csv'"
      ]
     },
     "execution_count": 24,
     "metadata": {},
     "output_type": "execute_result"
    }
   ],
   "source": [
    "import csv\n",
    "# Mapping ClassID to traffic sign names\n",
    "signs = []\n",
    "with open('signnames.csv', 'r') as csvfile:\n",
    "    signnames = csv.reader(csvfile, delimiter=',')\n",
    "    next(signnames,None)\n",
    "    for row in signnames:\n",
    "        signs.append(row[1])\n",
    "    csvfile.close()\n",
    "    \n",
    "ds.input(\"signnames.csv\")"
   ]
  },
  {
   "cell_type": "code",
   "execution_count": 25,
   "metadata": {},
   "outputs": [
    {
     "name": "stdout",
     "output_type": "stream",
     "text": [
      "Number of training examples:  34799\n",
      "Number of testing examples:  12630\n",
      "Number of validation examples:  4410\n",
      "Image data shape = (32, 32, 3)\n",
      "Number of classes = 43\n"
     ]
    }
   ],
   "source": [
    "X_train, y_train = train['features'], train['labels']\n",
    "X_valid, y_valid = valid['features'], valid['labels']\n",
    "X_test, y_test = test['features'], test['labels']\n",
    "\n",
    "# Number of training examples\n",
    "n_train = X_train.shape[0]\n",
    "\n",
    "# Number of testing examples\n",
    "n_test = X_test.shape[0]\n",
    "\n",
    "# Number of validation examples.\n",
    "n_validation = X_valid.shape[0]\n",
    "\n",
    "# What's the shape of an traffic sign image?\n",
    "image_shape = X_train[0].shape\n",
    "\n",
    "# How many unique classes/labels there are in the dataset.\n",
    "n_classes = len(np.unique(y_train))\n",
    "\n",
    "print(\"Number of training examples: \", n_train)\n",
    "print(\"Number of testing examples: \", n_test)\n",
    "print(\"Number of validation examples: \", n_validation)\n",
    "print(\"Image data shape =\", image_shape)\n",
    "print(\"Number of classes =\", n_classes)"
   ]
  },
  {
   "cell_type": "code",
   "execution_count": 26,
   "metadata": {},
   "outputs": [
    {
     "data": {
      "text/plain": [
       "(32, 32, 3)"
      ]
     },
     "execution_count": 26,
     "metadata": {},
     "output_type": "execute_result"
    }
   ],
   "source": [
    "X_train[0].shape"
   ]
  },
  {
   "cell_type": "markdown",
   "metadata": {},
   "source": [
    "# Preprocess data"
   ]
  },
  {
   "cell_type": "code",
   "execution_count": 27,
   "metadata": {},
   "outputs": [],
   "source": [
    "# define helper functions\n",
    "def list_images(dataset, dataset_y, ylabel=\"\", cmap=None):\n",
    "    \"\"\"\n",
    "    Display a list of images in a single figure with matplotlib.\n",
    "        Parameters:\n",
    "            images: An np.array compatible with plt.imshow.\n",
    "            lanel (Default = No label): A string to be used as a label for each image.\n",
    "            cmap (Default = None): Used to display gray images.\n",
    "    \"\"\"\n",
    "    plt.figure(figsize=(15, 16))\n",
    "    for i in range(6):\n",
    "        plt.subplot(1, 6, i+1)\n",
    "        indx = random.randint(0, len(dataset))\n",
    "        #Use gray scale color map if there is only one channel\n",
    "        cmap = 'gray' if len(dataset[indx].shape) == 2 else cmap\n",
    "        plt.imshow(dataset[indx], cmap = cmap)\n",
    "        plt.xlabel(signs[dataset_y[indx]])\n",
    "        plt.ylabel(ylabel)\n",
    "        plt.xticks([])\n",
    "        plt.yticks([])\n",
    "    plt.tight_layout(pad=0, h_pad=0, w_pad=0)\n",
    "    plt.show()\n",
    "    \n",
    "def histogram_plot(dataset, label):\n",
    "    \"\"\"\n",
    "    Plots a histogram of the input data.\n",
    "        Parameters:\n",
    "            dataset: Input data to be plotted as a histogram.\n",
    "            lanel: A string to be used as a label for the histogram.\n",
    "    \"\"\"\n",
    "    hist, bins = np.histogram(dataset, bins=n_classes)\n",
    "    width = 0.7 * (bins[1] - bins[0])\n",
    "    center = (bins[:-1] + bins[1:]) / 2\n",
    "    plt.bar(center, hist, align='center', width=width)\n",
    "    plt.xlabel(label)\n",
    "    plt.ylabel(\"Image count\")\n",
    "    plt.show()\n",
    "    \n",
    "def gray_scale(image):\n",
    "    \"\"\"\n",
    "    Convert images to gray scale.\n",
    "        Parameters:\n",
    "            image: An np.array compatible with plt.imshow.\n",
    "    \"\"\"\n",
    "    return cv2.cvtColor(image, cv2.COLOR_RGB2GRAY)\n",
    "\n",
    "def local_histo_equalize(image):\n",
    "    \"\"\"\n",
    "    Apply local histogram equalization to grayscale images.\n",
    "        Parameters:\n",
    "            image: A grayscale image.\n",
    "    \"\"\"\n",
    "    kernel = morp.disk(30)\n",
    "    img_local = rank.equalize(image, selem=kernel)\n",
    "    return img_local\n",
    "\n",
    "def image_normalize(image):\n",
    "    \"\"\"\n",
    "    Normalize images to [0, 1] scale.\n",
    "        Parameters:\n",
    "            image: An np.array compatible with plt.imshow.\n",
    "    \"\"\"\n",
    "    image = np.divide(image, 255)\n",
    "    return image\n",
    "\n",
    "def preprocess(data):\n",
    "    \"\"\"\n",
    "    Applying the preprocessing steps to the input data.\n",
    "        Parameters:\n",
    "            data: An np.array compatible with plt.imshow.\n",
    "    \"\"\"\n",
    "    gray_images = list(map(gray_scale, data))\n",
    "    equalized_images = list(map(local_histo_equalize, gray_images))\n",
    "    n_training = data.shape\n",
    "    normalized_images = np.zeros((n_training[0], n_training[1], n_training[2]))\n",
    "    for i, img in enumerate(equalized_images):\n",
    "        normalized_images[i] = image_normalize(img)\n",
    "    normalized_images = normalized_images[..., None]\n",
    "    return normalized_images"
   ]
  },
  {
   "cell_type": "code",
   "execution_count": 28,
   "metadata": {},
   "outputs": [],
   "source": [
    "X_valid_preprocessed = preprocess(X_valid)\n",
    "X_test_preprocessed = preprocess(X_test)\n",
    "X_train_preprocessed = preprocess(X_train)"
   ]
  },
  {
   "cell_type": "code",
   "execution_count": 29,
   "metadata": {},
   "outputs": [],
   "source": [
    "# list_images(X_train_preprocessed, y_train)"
   ]
  },
  {
   "cell_type": "markdown",
   "metadata": {},
   "source": [
    "# Train & test model"
   ]
  },
  {
   "cell_type": "code",
   "execution_count": 30,
   "metadata": {},
   "outputs": [
    {
     "name": "stdout",
     "output_type": "stream",
     "text": [
      "Train on 34799 samples, validate on 4410 samples\n",
      "Epoch 1/1\n",
      "34799/34799 [==============================] - 25s 718us/step - loss: 0.5927 - acc: 0.8358 - val_loss: 0.2673 - val_acc: 0.9190\n"
     ]
    },
    {
     "data": {
      "text/plain": [
       "<tensorflow.python.keras.callbacks.History at 0x7f6fb854bcc0>"
      ]
     },
     "execution_count": 30,
     "metadata": {},
     "output_type": "execute_result"
    }
   ],
   "source": [
    "num_classes=43\n",
    "model = tf.keras.models.Sequential()\n",
    "model.add(tf.keras.layers.Conv2D(32, kernel_size=(5, 5), strides=(1, 1), activation='relu', input_shape=(32, 32, 1)))\n",
    "model.add(tf.keras.layers.MaxPooling2D(pool_size=(2, 2), strides=(2, 2)))\n",
    "model.add(tf.keras.layers.Conv2D(32, (5, 5), activation='relu'))\n",
    "model.add(tf.keras.layers.MaxPooling2D(pool_size=(2, 2)))\n",
    "model.add(tf.keras.layers.Flatten())\n",
    "model.add(tf.keras.layers.Dense(1000, activation='relu'))\n",
    "model.add(tf.keras.layers.Dense(units = num_classes, activation='softmax'))\n",
    "\n",
    "model.compile(optimizer=ds.parameter(\"optimizer\", 'adam'),\n",
    "              loss='sparse_categorical_crossentropy',\n",
    "              metrics=['accuracy'])\n",
    "\n",
    "es = tf.keras.callbacks.EarlyStopping(monitor='acc')\n",
    "\n",
    "model.fit(X_train_preprocessed, y_train,\n",
    "          epochs=ds.parameter(\"epochs\", 1),\n",
    "          verbose=1,\n",
    "          validation_data=(X_valid_preprocessed, y_valid),\n",
    "          callbacks=[es])"
   ]
  },
  {
   "cell_type": "code",
   "execution_count": 31,
   "metadata": {},
   "outputs": [
    {
     "name": "stdout",
     "output_type": "stream",
     "text": [
      "12630/12630 [==============================] - 3s 223us/step\n"
     ]
    },
    {
     "data": {
      "text/plain": [
       "0.9129057798797142"
      ]
     },
     "execution_count": 31,
     "metadata": {},
     "output_type": "execute_result"
    }
   ],
   "source": [
    "ds.summary(\"accuracy\", model.evaluate(X_test_preprocessed, y_test)[1])"
   ]
  },
  {
   "cell_type": "markdown",
   "metadata": {},
   "source": [
    "# Save the model to Dotscience"
   ]
  },
  {
   "cell_type": "code",
   "execution_count": 32,
   "metadata": {},
   "outputs": [
    {
     "name": "stdout",
     "output_type": "stream",
     "text": [
      "export_path = ./model/1\n",
      "\n",
      "\n",
      "Already saved a model, cleaning up\n",
      "\n",
      "INFO:tensorflow:Assets added to graph.\n",
      "INFO:tensorflow:No assets to write.\n",
      "INFO:tensorflow:SavedModel written to: ./model/1/saved_model.pb\n",
      "\n",
      "Saved model:\n",
      "total 515\n",
      "-rw-r--r-- 1 root root 401878 Apr 16 09:13 saved_model.pb\n",
      "drwxr-xr-x 2 root root      4 Apr 16 09:13 variables\n"
     ]
    }
   ],
   "source": [
    "# Fetch the Keras session and save the model\n",
    "# The signature definition is defined by the input and output tensors,\n",
    "# and stored with the default serving key\n",
    "import tempfile\n",
    "\n",
    "MODEL_DIR = \"./model\"\n",
    "version = 1\n",
    "export_path = os.path.join(MODEL_DIR, str(version))\n",
    "print('export_path = {}\\n'.format(export_path))\n",
    "if os.path.isdir(export_path):\n",
    "  print('\\nAlready saved a model, cleaning up\\n')\n",
    "  !rm -r {export_path}\n",
    "\n",
    "tf.saved_model.simple_save(\n",
    "    tf.keras.backend.get_session(),\n",
    "    export_path,\n",
    "    inputs={'input_image_bytes': tf.io.decode_base64(str(model.input))}, \n",
    "    outputs={t.name:t for t in model.outputs})\n",
    "\n",
    "print('\\nSaved model:')\n",
    "!ls -l {export_path}"
   ]
  },
  {
   "cell_type": "code",
   "execution_count": 33,
   "metadata": {},
   "outputs": [
    {
     "name": "stdout",
     "output_type": "stream",
     "text": [
      "\n",
      "MetaGraphDef with tag-set: 'serve' contains the following SignatureDefs:\n",
      "\n",
      "signature_def['serving_default']:\n",
      "  The given SavedModel SignatureDef contains the following input(s):\n",
      "    inputs['input_image_bytes'] tensor_info:\n",
      "        dtype: DT_STRING\n",
      "        shape: ()\n",
      "        name: DecodeBase64_2:0\n",
      "  The given SavedModel SignatureDef contains the following output(s):\n",
      "    outputs['dense_3/Softmax:0'] tensor_info:\n",
      "        dtype: DT_FLOAT\n",
      "        shape: (-1, 43)\n",
      "        name: dense_3/Softmax:0\n",
      "  Method name is: tensorflow/serving/predict\n"
     ]
    }
   ],
   "source": [
    "!saved_model_cli show --dir {export_path} --all"
   ]
  },
  {
   "cell_type": "code",
   "execution_count": 34,
   "metadata": {},
   "outputs": [
    {
     "data": {
      "text/plain": [
       "'1.12.0'"
      ]
     },
     "execution_count": 34,
     "metadata": {},
     "output_type": "execute_result"
    }
   ],
   "source": [
    "ds.label(\"model.directory\", ds.output(\"model\"))\n",
    "ds.label(\"model.framework\", \"tensorflow\")\n",
    "ds.label(\"model.framework.version\", tf.__version__)"
   ]
  },
  {
   "cell_type": "code",
   "execution_count": 35,
   "metadata": {},
   "outputs": [
    {
     "name": "stdout",
     "output_type": "stream",
     "text": [
      "saved_model.pb\n",
      "variables\n"
     ]
    }
   ],
   "source": [
    "for file in os.listdir(\"model/1\"):\n",
    "    print(file)\n",
    "    ds.output(\"model/1/\" + file)"
   ]
  },
  {
   "cell_type": "code",
   "execution_count": 36,
   "metadata": {},
   "outputs": [
    {
     "name": "stdout",
     "output_type": "stream",
     "text": [
      "[[DOTSCIENCE-RUN:0f5355a4-c071-44c3-8a7e-c95d21f9b9d0]]{\n",
      "    \"end\": \"20190416T091354.215916\",\n",
      "    \"input\": [\n",
      "        \"valid.p\",\n",
      "        \"test.p\",\n",
      "        \"train.p\",\n",
      "        \"signnames.csv\"\n",
      "    ],\n",
      "    \"labels\": {\n",
      "        \"model.directory\": \"model\",\n",
      "        \"model.framework\": \"tensorflow\",\n",
      "        \"model.framework.version\": \"1.12.0\"\n",
      "    },\n",
      "    \"output\": [\n",
      "        \"model\",\n",
      "        \"model/1/variables\",\n",
      "        \"model/1/saved_model.pb\"\n",
      "    ],\n",
      "    \"parameters\": {\n",
      "        \"epochs\": \"1\",\n",
      "        \"optimizer\": \"adam\"\n",
      "    },\n",
      "    \"start\": \"20190415T145223.236296\",\n",
      "    \"summary\": {\n",
      "        \"accuracy\": \"0.9129057798797142\"\n",
      "    },\n",
      "    \"version\": \"1\"\n",
      "}[[/DOTSCIENCE-RUN:0f5355a4-c071-44c3-8a7e-c95d21f9b9d0]]\n"
     ]
    }
   ],
   "source": [
    "ds.publish()"
   ]
  }
 ],
 "metadata": {
  "kernelspec": {
   "display_name": "Python 3",
   "language": "python",
   "name": "python3"
  },
  "language_info": {
   "codemirror_mode": {
    "name": "ipython",
    "version": 3
   },
   "file_extension": ".py",
   "mimetype": "text/x-python",
   "name": "python",
   "nbconvert_exporter": "python",
   "pygments_lexer": "ipython3",
   "version": "3.5.2"
  }
 },
 "nbformat": 4,
 "nbformat_minor": 2
}
